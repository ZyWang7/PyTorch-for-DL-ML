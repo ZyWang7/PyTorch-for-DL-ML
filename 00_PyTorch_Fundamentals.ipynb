{
 "cells": [
  {
   "cell_type": "markdown",
   "metadata": {},
   "source": [
    "## 00. PyTorch Fundamentals"
   ]
  },
  {
   "cell_type": "code",
   "execution_count": 1,
   "metadata": {},
   "outputs": [
    {
     "name": "stdout",
     "output_type": "stream",
     "text": [
      "2.1.0.dev20230709\n"
     ]
    }
   ],
   "source": [
    "import torch\n",
    "import numpy as np\n",
    "import pandas as pd\n",
    "import matplotlib.pyplot as plt\n",
    "print(torch.__version__)"
   ]
  },
  {
   "cell_type": "markdown",
   "metadata": {},
   "source": [
    "### Intrpduction to Tensors\n",
    "\n",
    "#### Creating Tensors\n",
    "\n",
    "PyTorch tensors are created using `torch.tensor()`\n",
    "https://pytorch.org/docs/stable/tensors.html"
   ]
  },
  {
   "cell_type": "markdown",
   "metadata": {},
   "source": [
    "**1. Scalar**"
   ]
  },
  {
   "cell_type": "code",
   "execution_count": 2,
   "metadata": {},
   "outputs": [
    {
     "data": {
      "text/plain": [
       "tensor(7)"
      ]
     },
     "execution_count": 2,
     "metadata": {},
     "output_type": "execute_result"
    }
   ],
   "source": [
    "# Scalar\n",
    "scalar = torch.tensor(7)    # got tensor data type\n",
    "scalar"
   ]
  },
  {
   "cell_type": "code",
   "execution_count": 3,
   "metadata": {},
   "outputs": [
    {
     "data": {
      "text/plain": [
       "0"
      ]
     },
     "execution_count": 3,
     "metadata": {},
     "output_type": "execute_result"
    }
   ],
   "source": [
    "# a scalar has no dimensions -> a single number\n",
    "scalar.ndim"
   ]
  },
  {
   "cell_type": "code",
   "execution_count": 4,
   "metadata": {},
   "outputs": [
    {
     "data": {
      "text/plain": [
       "7"
      ]
     },
     "execution_count": 4,
     "metadata": {},
     "output_type": "execute_result"
    }
   ],
   "source": [
    "# to get tensor back as python int (the value)\n",
    "scalar.item()"
   ]
  },
  {
   "cell_type": "markdown",
   "metadata": {},
   "source": [
    "**2. Vector**"
   ]
  },
  {
   "cell_type": "code",
   "execution_count": 5,
   "metadata": {},
   "outputs": [
    {
     "name": "stdout",
     "output_type": "stream",
     "text": [
      "tensor([7., 7.])\n",
      "dimension: 1\n",
      "shape: torch.Size([2])\n"
     ]
    }
   ],
   "source": [
    "vector = torch.tensor([7.,7])\n",
    "print(vector)\n",
    "print('dimension:', vector.ndim)    # number of pairs of closing square brackets\n",
    "print('shape:', vector.shape)"
   ]
  },
  {
   "cell_type": "markdown",
   "metadata": {},
   "source": [
    "**3. Matrix**"
   ]
  },
  {
   "cell_type": "code",
   "execution_count": 6,
   "metadata": {},
   "outputs": [
    {
     "name": "stdout",
     "output_type": "stream",
     "text": [
      "tensor([[1, 2, 3],\n",
      "        [4, 5, 6]])\n",
      "dim: 2\n",
      "shape: torch.Size([2, 3])\n",
      "MATRIX[1]: tensor([4, 5, 6])\n"
     ]
    }
   ],
   "source": [
    "MATRIX = torch.tensor([[1, 2, 3], [4, 5, 6]])\n",
    "print(MATRIX)\n",
    "print('dim:', MATRIX.ndim)\n",
    "print('shape:', MATRIX.shape)\n",
    "print('MATRIX[1]:', MATRIX[1])"
   ]
  },
  {
   "cell_type": "code",
   "execution_count": 7,
   "metadata": {},
   "outputs": [
    {
     "name": "stdout",
     "output_type": "stream",
     "text": [
      "tensor([[[1., 2.],\n",
      "         [3., 4.],\n",
      "         [5., 6.],\n",
      "         [7., 8.]]])\n",
      "torch.Size([1, 4, 2])\n",
      "torch.Size([4, 2])\n"
     ]
    }
   ],
   "source": [
    "T = torch.tensor([[[1., 2.],\n",
    "                   [3., 4.],\n",
    "                   [5., 6.],\n",
    "                   [7., 8.]]])\n",
    "print(T)\n",
    "print(T.shape)\n",
    "print(T[0].shape)"
   ]
  },
  {
   "cell_type": "markdown",
   "metadata": {},
   "source": [
    "**Usually, naming: scalar and vector -> lower cases; matrix and tensor -> upper cases.**"
   ]
  },
  {
   "cell_type": "markdown",
   "metadata": {},
   "source": [
    "**5. Random tensors**\n",
    "\n",
    "- why random tensors?\n",
    "- A: the way of many neural networks learn is that they start with tensors full of random numbers and then adjust those numbers to better represent the data.\n",
    "\n",
    "`Start with random numbers -> look at data -> updata random numbers -> look at data -> updata random numbers`\n",
    "\n",
    "Torch random tensors - https://pytorch.org/docs/stable/generated/torch.rand.html"
   ]
  },
  {
   "cell_type": "code",
   "execution_count": 8,
   "metadata": {},
   "outputs": [
    {
     "name": "stdout",
     "output_type": "stream",
     "text": [
      "tensor([[0, 0, 0],\n",
      "        [0, 0, 3],\n",
      "        [1, 0, 4]])\n",
      "tensor([[0.3709, 0.5387, 0.8829, 0.2911],\n",
      "        [0.5195, 0.0275, 0.3915, 0.8949],\n",
      "        [0.8234, 0.7967, 0.1611, 0.1500]])\n"
     ]
    }
   ],
   "source": [
    "# Random tensors\n",
    "randint_tensor = torch.randint(5, (3,3))\n",
    "print(randint_tensor)\n",
    "\n",
    "rand_tensor = torch.rand(3, 4)  # shape: 3 x 4\n",
    "print(rand_tensor)"
   ]
  },
  {
   "cell_type": "code",
   "execution_count": 9,
   "metadata": {},
   "outputs": [
    {
     "data": {
      "text/plain": [
       "(torch.Size([224, 224, 3]), 3)"
      ]
     },
     "execution_count": 9,
     "metadata": {},
     "output_type": "execute_result"
    }
   ],
   "source": [
    "# create a random tensor with similar shape to an image tensor\n",
    "random_image_size_tensor = torch.rand(size = (224,224,3))   # height, width, color channels\n",
    "random_image_size_tensor.shape, random_image_size_tensor.ndim\n"
   ]
  },
  {
   "cell_type": "markdown",
   "metadata": {},
   "source": [
    "**6. Zeros and Ones**"
   ]
  },
  {
   "cell_type": "code",
   "execution_count": 10,
   "metadata": {},
   "outputs": [
    {
     "data": {
      "text/plain": [
       "tensor([[0., 0., 0., 0.],\n",
       "        [0., 0., 0., 0.],\n",
       "        [0., 0., 0., 0.]])"
      ]
     },
     "execution_count": 10,
     "metadata": {},
     "output_type": "execute_result"
    }
   ],
   "source": [
    "# all zeros\n",
    "zero = torch.zeros(size = (3,4))\n",
    "zero"
   ]
  },
  {
   "cell_type": "code",
   "execution_count": 11,
   "metadata": {},
   "outputs": [
    {
     "data": {
      "text/plain": [
       "tensor([[0., 0., 0., 0.],\n",
       "        [0., 0., 0., 0.],\n",
       "        [0., 0., 0., 0.]])"
      ]
     },
     "execution_count": 11,
     "metadata": {},
     "output_type": "execute_result"
    }
   ],
   "source": [
    "zero * rand_tensor"
   ]
  },
  {
   "cell_type": "code",
   "execution_count": 12,
   "metadata": {},
   "outputs": [
    {
     "name": "stdout",
     "output_type": "stream",
     "text": [
      "tensor([[1., 1., 1., 1.],\n",
      "        [1., 1., 1., 1.],\n",
      "        [1., 1., 1., 1.]])\n",
      "Default datatype of ones is: torch.float32\n",
      "Default datatype of rand_tensor is: torch.float32\n",
      "Default datatype of randint_tensor is: torch.int64\n"
     ]
    }
   ],
   "source": [
    "# all ones\n",
    "ones = torch.ones(size = (3,4))\n",
    "print(ones)\n",
    "\n",
    "# default datatype\n",
    "print('Default datatype of ones is:', ones.dtype)\n",
    "print('Default datatype of rand_tensor is:', rand_tensor.dtype)\n",
    "print('Default datatype of randint_tensor is:', randint_tensor.dtype)"
   ]
  },
  {
   "cell_type": "markdown",
   "metadata": {},
   "source": [
    "**7. Create a range of tensors and tensors-like**\n"
   ]
  },
  {
   "cell_type": "code",
   "execution_count": 13,
   "metadata": {},
   "outputs": [
    {
     "name": "stdout",
     "output_type": "stream",
     "text": [
      "tensor([0, 1, 2, 3, 4, 5, 6, 7, 8, 9])\n",
      "tensor([ 1,  4,  7, 10])\n"
     ]
    }
   ],
   "source": [
    "# torch.range() -> get deprecated message\n",
    "# use torch.arange()\n",
    "print(torch.arange(0, 10))\n",
    "\n",
    "one_to_ten = torch.arange(start=1, end=11, step=3)\n",
    "print(one_to_ten)\n"
   ]
  },
  {
   "cell_type": "code",
   "execution_count": 14,
   "metadata": {},
   "outputs": [
    {
     "data": {
      "text/plain": [
       "tensor([0, 0, 0, 0])"
      ]
     },
     "execution_count": 14,
     "metadata": {},
     "output_type": "execute_result"
    }
   ],
   "source": [
    "# tensors like\n",
    "# want to replicate a particular shape of a tensor, \n",
    "# but don't want to explicitly define the shape\n",
    "new_zeros = torch.zeros_like(input=one_to_ten)\n",
    "new_zeros\n",
    "# zeros in the same shape as one_to_ten"
   ]
  },
  {
   "cell_type": "code",
   "execution_count": null,
   "metadata": {},
   "outputs": [],
   "source": []
  }
 ],
 "metadata": {
  "kernelspec": {
   "display_name": "Python 3",
   "language": "python",
   "name": "python3"
  },
  "language_info": {
   "codemirror_mode": {
    "name": "ipython",
    "version": 3
   },
   "file_extension": ".py",
   "mimetype": "text/x-python",
   "name": "python",
   "nbconvert_exporter": "python",
   "pygments_lexer": "ipython3",
   "version": "3.10.12"
  },
  "orig_nbformat": 4
 },
 "nbformat": 4,
 "nbformat_minor": 2
}
