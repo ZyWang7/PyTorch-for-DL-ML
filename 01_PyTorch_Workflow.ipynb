{
 "cells": [
  {
   "cell_type": "markdown",
   "metadata": {},
   "source": [
    "## 01. PyTorch Workflow\n",
    "\n",
    "**An example PyTorch end-to-end workflow.**\n",
    "1. get data (prepare and load) (turn into tensors)\n",
    "2. build or pick a pretrained model\n",
    "3. fit the model to data (training)\n",
    "4. make predictions and evaluate the model (inference)\n",
    "5. saving and loading a model\n",
    "6. put all together"
   ]
  },
  {
   "cell_type": "code",
   "execution_count": 1,
   "metadata": {},
   "outputs": [],
   "source": [
    "import torch\n",
    "# nn -> contains all of pytorch's building blocks for neural networks\n",
    "# https://pytorch.org/docs/stable/nn.html\n",
    "from torch import nn\n",
    "import matplotlib.pyplot as plt"
   ]
  },
  {
   "cell_type": "markdown",
   "metadata": {},
   "source": [
    "### 1. Data Preparation\n",
    "\n",
    "excel speadsheet / images / videos / audio / text ...\n",
    "\n",
    "-> get data into a numberical representation.\n",
    "\n",
    "-> build a model to learn patterns in that numberical representation.\n",
    "\n",
    "Use a linear regression formula to make a straight line with known *parameters*."
   ]
  },
  {
   "cell_type": "code",
   "execution_count": 2,
   "metadata": {},
   "outputs": [
    {
     "name": "stdout",
     "output_type": "stream",
     "text": [
      "tensor([[0.0000],\n",
      "        [0.0200],\n",
      "        [0.0400],\n",
      "        [0.0600],\n",
      "        [0.0800],\n",
      "        [0.1000],\n",
      "        [0.1200],\n",
      "        [0.1400],\n",
      "        [0.1600],\n",
      "        [0.1800]])\n",
      "tensor([[0.3000],\n",
      "        [0.3140],\n",
      "        [0.3280],\n",
      "        [0.3420],\n",
      "        [0.3560],\n",
      "        [0.3700],\n",
      "        [0.3840],\n",
      "        [0.3980],\n",
      "        [0.4120],\n",
      "        [0.4260]])\n",
      "50 50\n"
     ]
    }
   ],
   "source": [
    "# parameters\n",
    "weight = 0.7\n",
    "bias = 0.3\n",
    "\n",
    "start = 0\n",
    "end = 1\n",
    "step = 0.02\n",
    "X = torch.arange(start, end, step).unsqueeze(dim=1)\n",
    "y = weight * X + bias\n",
    "\n",
    "print(X[:10])\n",
    "print(y[:10])\n",
    "print(len(X), len(y))"
   ]
  },
  {
   "cell_type": "markdown",
   "metadata": {},
   "source": [
    "**Splitting data into training and testng sets**"
   ]
  },
  {
   "cell_type": "code",
   "execution_count": 3,
   "metadata": {},
   "outputs": [],
   "source": [
    "train_split = int(0.8 * len(X))\n",
    "X_train, y_train = X[:train_split], y[:train_split]\n",
    "X_test, y_test = X[train_split:], y[train_split:]"
   ]
  },
  {
   "cell_type": "code",
   "execution_count": 4,
   "metadata": {},
   "outputs": [],
   "source": [
    "# visualize\n",
    "def plot_predictions(train_data=X_train, \n",
    "                     train_labels=y_train, \n",
    "                     test_data=X_test, \n",
    "                     test_labels=y_test, \n",
    "                     predictions=None):\n",
    "    \"\"\"\n",
    "    Plots training data, test data and compares predictions\n",
    "    \"\"\"\n",
    "    plt.figure(figsize=(8, 6))\n",
    "\n",
    "    plt.scatter(train_data, train_labels, c=\"b\", s=4, label=\"Training data\")\n",
    "\n",
    "    plt.scatter(test_data, test_labels, c=\"g\", s=4, label=\"Testing data\")\n",
    "\n",
    "    if predictions is not None:\n",
    "        plt.scatter(test_data, predictions, c=\"r\", s=4, label=\"Predictions\")\n",
    "\n",
    "    # Show the legend\n",
    "    plt.legend(prop={\"size\": 14})\n",
    "    plt.grid()"
   ]
  },
  {
   "cell_type": "code",
   "execution_count": 5,
   "metadata": {},
   "outputs": [
    {
     "data": {
      "image/png": "[encoded data removed]",
      "text/plain": [
       "<Figure size 800x600 with 1 Axes>"
      ]
     },
     "metadata": {},
     "output_type": "display_data"
    }
   ],
   "source": [
    "plot_predictions()"
   ]
  },
  {
   "cell_type": "markdown",
   "metadata": {},
   "source": [
    "### 2. Build PyTorch model\n",
    "\n",
    "**2 main algorithms:**\n",
    "- Gradient descent\n",
    "- backpropagation"
   ]
  },
  {
   "cell_type": "code",
   "execution_count": 6,
   "metadata": {},
   "outputs": [],
   "source": [
    "# create a linear regression model class\n",
    "class LinearRegressionModel(nn.Module):\n",
    "    # almost everything in PyTorch inherits from nn.Module\n",
    "    def __init__(self):\n",
    "        super().__init__()\n",
    "        # a kind of Tensor that is to be considered a module parameter\n",
    "        self.weights = nn.Parameter(torch.rand(1,\n",
    "                                               requires_grad=True,  # gd -> True\n",
    "                                               dtype=torch.float))\n",
    "        self.bias = nn.Parameter(torch.rand(1,\n",
    "                                            requires_grad=True,\n",
    "                                            dtype=torch.float))\n",
    "        # requires_grad: will track the gradients of this specific parameter for\n",
    "        # use with torch. autograd and gradient descent (for many torch.nn\n",
    "        # modules, requires_grad=True is set by default)\n",
    "\n",
    "    # any subclass of n. Module needs to override forward ()\n",
    "    def forward(self, x: torch.Tensor) -> torch.Tensor:\n",
    "        \"\"\" to define the computation in the model \"\"\"\n",
    "        # x: input data\n",
    "        return self.weights * x + self.bias\n"
   ]
  },
  {
   "cell_type": "markdown",
   "metadata": {},
   "source": [
    "**Model building essentials**\n",
    "\n",
    "- torch.nn\n",
    "- torch.nn.Parameter -> what parameters should model try and learn -> pytorch layer from torch.nn will set these for us\n",
    "- torch.nn.Module -> the base class for all neural network modules -> subcless must overwrite `forward()`\n",
    "- torch.optim -> where the optimizers in pytorch live -> help with gradient descent\n",
    "- def forward() -> define what happens in the forward computation\n",
    "- torch.utils.data.Dataset -> represents a map between key(label) and sample(features) pairs of data -> images and associated labels\n",
    "- torch.utils.data.DataLoader -> creates a python iterable over a torch dataset (to iterate over datas\n",
    "\n",
    "---\n",
    "- torchvision.transforms -> torchvision: pytorch's computer vision\n",
    "- torchvision.models\n",
    "\n",
    "---\n",
    "- torchmetrics -> to evaluate the model\n",
    "- torch.utils.tensorboard -> to improve through experimentation"
   ]
  },
  {
   "cell_type": "markdown",
   "metadata": {},
   "source": [
    "**Check the contents of PyTorch model**\n",
    "\n",
    "check the model parameters using `.parameters()`"
   ]
  },
  {
   "cell_type": "code",
   "execution_count": 7,
   "metadata": {},
   "outputs": [
    {
     "data": {
      "text/plain": [
       "[Parameter containing:\n",
       " tensor([0.8823], requires_grad=True),\n",
       " Parameter containing:\n",
       " tensor([0.9150], requires_grad=True)]"
      ]
     },
     "execution_count": 7,
     "metadata": {},
     "output_type": "execute_result"
    }
   ],
   "source": [
    "# create a random seed\n",
    "torch.manual_seed(42)\n",
    "\n",
    "# create an instance of the model\n",
    "model_0 = LinearRegressionModel()\n",
    "\n",
    "# check out the parameters\n",
    "list(model_0.parameters())"
   ]
  },
  {
   "cell_type": "code",
   "execution_count": 8,
   "metadata": {},
   "outputs": [
    {
     "data": {
      "text/plain": [
       "OrderedDict([('weights', tensor([0.8823])), ('bias', tensor([0.9150]))])"
      ]
     },
     "execution_count": 8,
     "metadata": {},
     "output_type": "execute_result"
    }
   ],
   "source": [
    "# list named parameters -> get a dictionary of parameters\n",
    "model_0.state_dict()"
   ]
  },
  {
   "cell_type": "markdown",
   "metadata": {},
   "source": [
    "**Make presictions using `torch.inference_mode()`**"
   ]
  },
  {
   "cell_type": "code",
   "execution_count": 9,
   "metadata": {},
   "outputs": [
    {
     "data": {
      "text/plain": [
       "tensor([[1.6208],\n",
       "        [1.6385],\n",
       "        [1.6561],\n",
       "        [1.6738],\n",
       "        [1.6914],\n",
       "        [1.7090],\n",
       "        [1.7267],\n",
       "        [1.7443],\n",
       "        [1.7620],\n",
       "        [1.7796]], grad_fn=<AddBackward0>)"
      ]
     },
     "execution_count": 9,
     "metadata": {},
     "output_type": "execute_result"
    }
   ],
   "source": [
    "y_preds = model_0(X_test)\n",
    "y_preds"
   ]
  },
  {
   "cell_type": "markdown",
   "metadata": {},
   "source": [
    "difference:\n",
    "\n",
    "inference -> turn off the gradient tracking -> do not training"
   ]
  },
  {
   "cell_type": "code",
   "execution_count": 10,
   "metadata": {},
   "outputs": [
    {
     "data": {
      "text/plain": [
       "tensor([[1.6208],\n",
       "        [1.6385],\n",
       "        [1.6561],\n",
       "        [1.6738],\n",
       "        [1.6914],\n",
       "        [1.7090],\n",
       "        [1.7267],\n",
       "        [1.7443],\n",
       "        [1.7620],\n",
       "        [1.7796]])"
      ]
     },
     "execution_count": 10,
     "metadata": {},
     "output_type": "execute_result"
    }
   ],
   "source": [
    "with torch.inference_mode():\n",
    "    y_preds = model_0(X_test)\n",
    "\n",
    "# similar, but inference_mode is preferred (faster way?)\n",
    "# with torch.no_grad():\n",
    "#     y_preds = model_0(X_test)\n",
    "\n",
    "y_preds"
   ]
  },
  {
   "cell_type": "code",
   "execution_count": 11,
   "metadata": {},
   "outputs": [
    {
     "data": {
      "image/png": "[encoded data removed]",
      "text/plain": [
       "<Figure size 800x600 with 1 Axes>"
      ]
     },
     "metadata": {},
     "output_type": "display_data"
    }
   ],
   "source": [
    "plot_predictions(predictions=y_preds)"
   ]
  },
  {
   "cell_type": "markdown",
   "metadata": {},
   "source": [
    "### 3. Train Model\n",
    "\n",
    "- **loss function:** https://pytorch.org/docs/stable/nn.html#loss-functions\n",
    "    - may also be called *cost function* or *criterion*\n",
    "    - e.g. nn.L1Loss (MAE) / nn.MSELoss (squared L2 norm) / nn.CrossEntropyLoss\n",
    "\n",
    "\n",
    "- **optimizer:** https://pytorch.org/docs/stable/optim.html?highlight=optimizer#module-torch.optim\n",
    "    - takes into account the loss of a model and adjusts the model parameters accordingly"
   ]
  },
  {
   "cell_type": "code",
   "execution_count": 12,
   "metadata": {},
   "outputs": [],
   "source": [
    "# set up a loss function\n",
    "loss_func = nn.L1Loss()\n",
    "\n",
    "# set up a optimizer\n",
    "optimizer = torch.optim.SGD(model_0.parameters(), lr=0.01)      # learning rate"
   ]
  },
  {
   "cell_type": "code",
   "execution_count": 13,
   "metadata": {},
   "outputs": [
    {
     "name": "stdout",
     "output_type": "stream",
     "text": [
      "parameters before training:\n"
     ]
    },
    {
     "data": {
      "text/plain": [
       "OrderedDict([('weights', tensor([0.8823])), ('bias', tensor([0.9150]))])"
      ]
     },
     "execution_count": 13,
     "metadata": {},
     "output_type": "execute_result"
    }
   ],
   "source": [
    "print('parameters before training:')\n",
    "model_0.state_dict()"
   ]
  },
  {
   "cell_type": "markdown",
   "metadata": {},
   "source": [
    "**Build a training loop (and a testing loop) in PyTorch**\n",
    "\n",
    "(1) loop through the data\n",
    "\n",
    "(2) forward pass (forwars propagation) (data moving through the model's `forward()`) to make prediction on data\n",
    "\n",
    "(3) calculate the loss\n",
    "\n",
    "(4) optimizer zero grad\n",
    "\n",
    "(5) loss backward -> move backwards through the network to calculate the gradients of each of the parameters of the model with respect to the loss (*backward propagation*)\n",
    "\n",
    "(6) optimizer step -> use the optimizer to adjust model's parameters to try and improve the loss (*gradient descent*)"
   ]
  },
  {
   "cell_type": "code",
   "execution_count": 14,
   "metadata": {},
   "outputs": [
    {
     "name": "stdout",
     "output_type": "stream",
     "text": [
      "Epoch: 0 | MAE train Loss: 0.6860889196395874 | test loss: 0.7637526988983154\n",
      "OrderedDict([('weights', tensor([0.8784])), ('bias', tensor([0.9050]))])\n",
      "Epoch: 10 | MAE train Loss: 0.5708791017532349 | test loss: 0.6290428042411804\n",
      "OrderedDict([('weights', tensor([0.8394])), ('bias', tensor([0.8050]))])\n",
      "Epoch: 20 | MAE train Loss: 0.45566922426223755 | test loss: 0.4943329691886902\n",
      "OrderedDict([('weights', tensor([0.8004])), ('bias', tensor([0.7050]))])\n",
      "Epoch: 30 | MAE train Loss: 0.340459406375885 | test loss: 0.35962313413619995\n",
      "OrderedDict([('weights', tensor([0.7614])), ('bias', tensor([0.6050]))])\n",
      "Epoch: 40 | MAE train Loss: 0.22524945437908173 | test loss: 0.2249133139848709\n",
      "OrderedDict([('weights', tensor([0.7224])), ('bias', tensor([0.5050]))])\n",
      "Epoch: 50 | MAE train Loss: 0.1100396141409874 | test loss: 0.09020347893238068\n",
      "OrderedDict([('weights', tensor([0.6834])), ('bias', tensor([0.4050]))])\n",
      "Epoch: 60 | MAE train Loss: 0.009724984876811504 | test loss: 0.020998019725084305\n",
      "OrderedDict([('weights', tensor([0.6539])), ('bias', tensor([0.3200]))])\n",
      "Epoch: 70 | MAE train Loss: 0.006216756068170071 | test loss: 0.014099234715104103\n",
      "OrderedDict([('weights', tensor([0.6707])), ('bias', tensor([0.3120]))])\n",
      "Epoch: 80 | MAE train Loss: 0.002788323210552335 | test loss: 0.005826681852340698\n",
      "OrderedDict([('weights', tensor([0.6878])), ('bias', tensor([0.3050]))])\n",
      "Epoch: 90 | MAE train Loss: 0.007095950189977884 | test loss: 0.00754010071977973\n",
      "OrderedDict([('weights', tensor([0.6938])), ('bias', tensor([0.2980]))])\n"
     ]
    }
   ],
   "source": [
    "# epoch -> one loop through the data -> hyperparameters\n",
    "epochs = 100\n",
    "\n",
    "epoch_count = []\n",
    "train_loss = []\n",
    "test_loss = []\n",
    "\n",
    "for epoch in range(epochs):\n",
    "    # set the model to training mode\n",
    "    # train mode in pytorch sets all parameters that require gradients to require gradients?\n",
    "    model_0.train()\n",
    "\n",
    "    # (2) forward pass on training data\n",
    "    y_pred = model_0(X_train)\n",
    "\n",
    "    # (3) calculate the loss value\n",
    "    loss = loss_func(y_pred, y_train)\n",
    "\n",
    "    # (4) optimizer zero grad -> zero the optimizer gradients\n",
    "    optimizer.zero_grad()\n",
    "\n",
    "    # (5) backpropagation\n",
    "    # (compute the gradient of every parameter with requires grad=True)\n",
    "    loss.backward()\n",
    "\n",
    "    # (6) perform GD -> to update the model's parameters with respect to the\n",
    "    # gradients calculated by `loss.backward()`\n",
    "    # by default -> how the optimizer changes will accumulate through the loop\n",
    "    # -> so: zero them above in step (4) for the next iteration of the loop\n",
    "    optimizer.step()\n",
    "\n",
    "    \"\"\" testing code \"\"\"\n",
    "    # turns off the gradients tracking\n",
    "    model_0.eval()\n",
    "\n",
    "    # in testing -> do not need the gradients tracking\n",
    "    with torch.inference_mode():\n",
    "        # 1. do forward pass\n",
    "        test_pred = model_0(X_test)\n",
    "\n",
    "        # calculate the loss\n",
    "        t_loss = loss_func(test_pred, y_test)\n",
    "\n",
    "\n",
    "    if (epoch % 10 == 0):\n",
    "        epoch_count.append(epoch)\n",
    "        train_loss.append(loss)\n",
    "        test_loss.append(t_loss)\n",
    "        print(f\"Epoch: {epoch} | MAE train Loss: {loss} | test loss: {t_loss}\")\n",
    "        print(model_0.state_dict())\n"
   ]
  },
  {
   "cell_type": "code",
   "execution_count": 15,
   "metadata": {},
   "outputs": [
    {
     "data": {
      "image/png": "[encoded data removed]",
      "text/plain": [
       "<Figure size 640x480 with 1 Axes>"
      ]
     },
     "metadata": {},
     "output_type": "display_data"
    }
   ],
   "source": [
    "# plot the loss curves\n",
    "import numpy as np\n",
    "\n",
    "# convert tensor to numpy array\n",
    "train = np.array(torch.tensor(train_loss).numpy())\n",
    "test = np.array(torch.tensor(test_loss).numpy())\n",
    "\n",
    "plt.plot(epoch_count, train, label='Train loss')\n",
    "plt.plot(epoch_count, test, label='Test loss')\n",
    "\n",
    "plt.title('Training and Testing Loss')\n",
    "plt.xlabel('Epoch')\n",
    "plt.ylabel('Loss')\n",
    "\n",
    "plt.legend()\n",
    "plt.grid()"
   ]
  },
  {
   "cell_type": "code",
   "execution_count": 16,
   "metadata": {},
   "outputs": [
    {
     "data": {
      "image/png": "[encoded data removed]",
      "text/plain": [
       "<Figure size 800x600 with 1 Axes>"
      ]
     },
     "metadata": {},
     "output_type": "display_data"
    }
   ],
   "source": [
    "# make predictions\n",
    "with torch.inference_mode():\n",
    "    y_pred_new = model_0(X_test)\n",
    "\n",
    "plot_predictions(predictions=y_pred_new)"
   ]
  },
  {
   "cell_type": "markdown",
   "metadata": {},
   "source": [
    "### 4. Save and load a model\n",
    "\n",
    "https://pytorch.org/tutorials/beginner/saving_loading_models.html\n",
    "\n",
    "**3 main methods:**\n",
    "\n",
    "(1) `torch.save()`\n",
    "- saves a serialized object to disk\n",
    "- uses Python's pickle format\n",
    "- python pickle: pickle module -> implements binary protocols for serializing and de-serializing a Python object structure\n",
    "\n",
    "(2) `torch.load()`\n",
    "- uses pickle's unpickling facilities to deserialize pickled object files to memory\n",
    "\n",
    "(3) `torch.nn.Module.load_state_dict()`\n",
    "- load a model's saved state (parameter) dictionary\n",
    "\n",
    "---\n",
    "Also:\n",
    "- sava/load `state_dict` (recommended)\n",
    "    - save:\n",
    "        - torch.save(model.state_dict(), PATH)\n",
    "    - load: \n",
    "        - model = TheModelClass(*args, **kwargs)\n",
    "        - model.load_state_dict(torch.load(PATH))\n",
    "        - model.eval()\n",
    "\n",
    "- sava/load `entire model`\n",
    "    - save:\n",
    "        - torch.save(model, PATH)\n",
    "    - load:     # Model class must be defined somewhere\n",
    "        - model = torch.load(PATH)\n",
    "        - model.eval()"
   ]
  },
  {
   "cell_type": "code",
   "execution_count": 18,
   "metadata": {},
   "outputs": [
    {
     "name": "stdout",
     "output_type": "stream",
     "text": [
      "models/01_workflow_model_0.pth\n"
     ]
    }
   ],
   "source": [
    "# save model\n",
    "from pathlib import Path\n",
    "\n",
    "# 1. create models directory\n",
    "MODEL_PATH = Path(\"models\")\n",
    "MODEL_PATH.mkdir(parents=True, exist_ok=True)\n",
    "\n",
    "# 2. create mode save path\n",
    "# common PyTorch convention to save models: .pt or .pth file extension\n",
    "MODEL_NAME = \"01_workflow_model_0.pth\"\n",
    "MODEL_SAVE_PATH = MODEL_PATH / MODEL_NAME\n",
    "print(MODEL_SAVE_PATH)\n",
    "\n",
    "# 3. save the model state dict\n",
    "torch.save(model_0.state_dict(), MODEL_SAVE_PATH)"
   ]
  },
  {
   "cell_type": "code",
   "execution_count": 19,
   "metadata": {},
   "outputs": [
    {
     "name": "stdout",
     "output_type": "stream",
     "text": [
      "total 8\n",
      "-rw-r--r--  1 wzy  staff  1568 Jul 13 19:03 01_workflow_model_0.pth\n"
     ]
    }
   ],
   "source": [
    "# check files\n",
    "!ls -l models"
   ]
  },
  {
   "cell_type": "code",
   "execution_count": 20,
   "metadata": {},
   "outputs": [
    {
     "name": "stdout",
     "output_type": "stream",
     "text": [
      "OrderedDict([('weights', tensor([0.6977])), ('bias', tensor([0.3080]))])\n"
     ]
    }
   ],
   "source": [
    "# load model\n",
    "\n",
    "# creata a new instance of the model class\n",
    "load_model_0 = LinearRegressionModel()\n",
    "\n",
    "# load the state dict\n",
    "load_model_0.load_state_dict(torch.load(MODEL_SAVE_PATH))\n",
    "\n",
    "print(load_model_0.state_dict())"
   ]
  },
  {
   "cell_type": "code",
   "execution_count": 21,
   "metadata": {},
   "outputs": [
    {
     "data": {
      "text/plain": [
       "tensor([[0.8661],\n",
       "        [0.8801],\n",
       "        [0.8940],\n",
       "        [0.9080],\n",
       "        [0.9220],\n",
       "        [0.9359],\n",
       "        [0.9499],\n",
       "        [0.9638],\n",
       "        [0.9778],\n",
       "        [0.9917]])"
      ]
     },
     "execution_count": 21,
     "metadata": {},
     "output_type": "execute_result"
    }
   ],
   "source": [
    "# make some predictions with load_model_0\n",
    "load_model_0.eval()\n",
    "with torch.inference_mode():\n",
    "    load_pred = load_model_0(X_test)\n",
    "\n",
    "load_pred"
   ]
  },
  {
   "cell_type": "code",
   "execution_count": 22,
   "metadata": {},
   "outputs": [
    {
     "data": {
      "text/plain": [
       "tensor([[True],\n",
       "        [True],\n",
       "        [True],\n",
       "        [True],\n",
       "        [True],\n",
       "        [True],\n",
       "        [True],\n",
       "        [True],\n",
       "        [True],\n",
       "        [True]])"
      ]
     },
     "execution_count": 22,
     "metadata": {},
     "output_type": "execute_result"
    }
   ],
   "source": [
    "# compare loaded model predictions with the originals model predictions\n",
    "y_pred_new == load_pred"
   ]
  }
 ],
 "metadata": {
  "kernelspec": {
   "display_name": "Python 3",
   "language": "python",
   "name": "python3"
  },
  "language_info": {
   "codemirror_mode": {
    "name": "ipython",
    "version": 3
   },
   "file_extension": ".py",
   "mimetype": "text/x-python",
   "name": "python",
   "nbconvert_exporter": "python",
   "pygments_lexer": "ipython3",
   "version": "3.10.12"
  },
  "orig_nbformat": 4
 },
 "nbformat": 4,
 "nbformat_minor": 2
}
