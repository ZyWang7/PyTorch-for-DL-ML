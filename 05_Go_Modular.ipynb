{
 "cells": [
  {
   "cell_type": "markdown",
   "metadata": {},
   "source": [
    "## 05. PyTorch Going Modular\n",
    "\n",
    "#### => Turn useful notebook code cells into reusable Python scripts (.py files)\n",
    ">\n",
    "> e.g.: \n",
    "> - `data_setup.py` -> a file to prepare and download data if needed\n",
    "> - `engine.py` -> a file containing various training functions\n",
    "> - `model_builder.py` or `model.py` -> a file to create a PyTorch model\n",
    "> - `train.py` -> a file to leverage all other files and train a target PyTorch model\n",
    "> - `utils.py` -> a file dedicated to helpful utility functions\n",
    "\n",
    "#### => Why go modular?\n",
    ">\n",
    ">  larger scale projects -> Python scripts more reproducible and easier to run."
   ]
  },
  {
   "cell_type": "markdown",
   "metadata": {},
   "source": [
    "#### How do I turn my notebook code into Python scripts?\n",
    "\n",
    "**`Script mode:` uses `Jupyter Notebook cell magic` (special commands) to turn specific cells into Python scripts.**\n",
    "\n",
    "Putting `%%writefile filename` at the top of a cell in Jupyter or Google Colab will write the contents of that cell to a specified filename.\n",
    "> => e.g. \n",
    ">\n",
    "> %%writefile hello_world.py\n",
    ">\n",
    "> print(\"hello world, machine learning is fun!\")\n"
   ]
  },
  {
   "cell_type": "code",
   "execution_count": null,
   "metadata": {},
   "outputs": [],
   "source": []
  },
  {
   "cell_type": "code",
   "execution_count": null,
   "metadata": {},
   "outputs": [],
   "source": []
  },
  {
   "cell_type": "code",
   "execution_count": null,
   "metadata": {},
   "outputs": [],
   "source": []
  }
 ],
 "metadata": {
  "language_info": {
   "name": "python"
  },
  "orig_nbformat": 4
 },
 "nbformat": 4,
 "nbformat_minor": 2
}
