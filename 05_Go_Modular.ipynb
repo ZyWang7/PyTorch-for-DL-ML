{
 "cells": [
  {
   "cell_type": "markdown",
   "metadata": {},
   "source": [
    "## 05. PyTorch Going Modular\n",
    "\n",
    "#### => Turn useful notebook code cells into reusable Python scripts (.py files)\n",
    ">\n",
    "> e.g.: \n",
    "> - `data_setup.py` -> a file to prepare and download data if needed\n",
    "> - `engine.py` -> a file containing various training functions\n",
    "> - `model_builder.py` or `model.py` -> a file to create a PyTorch model\n",
    "> - `train.py` -> a file to leverage all other files and train a target PyTorch model\n",
    "> - `utils.py` -> a file dedicated to helpful utility functions\n",
    "\n",
    "#### => Why go modular?\n",
    ">\n",
    ">  larger scale projects -> Python scripts more reproducible and easier to run."
   ]
  },
  {
   "cell_type": "markdown",
   "metadata": {},
   "source": [
    "#### How do I turn my notebook code into Python scripts?\n",
    "\n",
    "**`Script mode:` uses `Jupyter Notebook cell magic` (special commands) to turn specific cells into Python scripts.**\n",
    "\n",
    "Putting `%%writefile filename` at the top of a cell in Jupyter or Google Colab will write the contents of that cell to a specified filename.\n",
    "> => e.g. \n",
    ">\n",
    "> %%writefile hello_world.py\n",
    ">\n",
    "> print(\"hello world, machine learning is fun!\")\n"
   ]
  },
  {
   "cell_type": "markdown",
   "metadata": {},
   "source": [
    "### 0. Create a folder for storing Python scripts"
   ]
  },
  {
   "cell_type": "code",
   "execution_count": 1,
   "metadata": {},
   "outputs": [],
   "source": [
    "import os\n",
    "os.makedirs(\"go_modular\", exist_ok=True)"
   ]
  },
  {
   "cell_type": "markdown",
   "metadata": {},
   "source": [
    "### 1. Get Data"
   ]
  },
  {
   "cell_type": "code",
   "execution_count": 2,
   "metadata": {},
   "outputs": [
    {
     "name": "stdout",
     "output_type": "stream",
     "text": [
      "data/pizza_steak_sushi directory exists.\n"
     ]
    }
   ],
   "source": [
    "import os\n",
    "import zipfile\n",
    "from pathlib import Path\n",
    "import requests\n",
    "\n",
    "# Setup path to data folder\n",
    "data_path = Path(\"data/\")\n",
    "image_path = data_path / \"pizza_steak_sushi\"\n",
    "\n",
    "# If the image folder doesn't exist, download it and prepare it... \n",
    "if image_path.is_dir():\n",
    "    print(f\"{image_path} directory exists.\")\n",
    "else:\n",
    "    print(f\"Did not find {image_path} directory, creating one...\")\n",
    "    image_path.mkdir(parents=True, exist_ok=True)"
   ]
  },
  {
   "cell_type": "code",
   "execution_count": 3,
   "metadata": {},
   "outputs": [
    {
     "name": "stdout",
     "output_type": "stream",
     "text": [
      "Downloading pizza, steak, sushi data...\n",
      "Unzipping pizza, steak, sushi data...\n"
     ]
    }
   ],
   "source": [
    "# Download pizza, steak, sushi data\n",
    "with open(data_path / \"pizza_steak_sushi.zip\", \"wb\") as f:\n",
    "    request = requests.get(\"https://github.com/mrdbourke/pytorch-deep-learning/raw/main/data/pizza_steak_sushi.zip\")\n",
    "    print(\"Downloading pizza, steak, sushi data...\")\n",
    "    f.write(request.content)\n",
    "\n",
    "# Unzip pizza, steak, sushi data\n",
    "with zipfile.ZipFile(data_path / \"pizza_steak_sushi.zip\", \"r\") as zip_ref:\n",
    "    print(\"Unzipping pizza, steak, sushi data...\") \n",
    "    zip_ref.extractall(image_path)\n",
    "\n",
    "# Remove zip file\n",
    "os.remove(data_path / \"pizza_steak_sushi.zip\")"
   ]
  },
  {
   "cell_type": "code",
   "execution_count": 4,
   "metadata": {},
   "outputs": [
    {
     "data": {
      "text/plain": [
       "(PosixPath('data/pizza_steak_sushi/train'),\n",
       " PosixPath('data/pizza_steak_sushi/test'))"
      ]
     },
     "execution_count": 4,
     "metadata": {},
     "output_type": "execute_result"
    }
   ],
   "source": [
    "# Setup train and testing paths\n",
    "train_dir = image_path / \"train\"\n",
    "test_dir = image_path / \"test\"\n",
    "\n",
    "train_dir, test_dir"
   ]
  },
  {
   "cell_type": "markdown",
   "metadata": {},
   "source": [
    "### 2. Create Datasets and DataLoaders (script mode)\n",
    "\n",
    "=> use the Jupyter magic function to create a `.py` file for creating DataLoaders.\n",
    "\n",
    "=> save a code cell's contents to a file using the Jupyter magic `%%writefile filename`"
   ]
  },
  {
   "cell_type": "code",
   "execution_count": 5,
   "metadata": {},
   "outputs": [
    {
     "name": "stdout",
     "output_type": "stream",
     "text": [
      "Writing go_modular/data_setup.py\n"
     ]
    }
   ],
   "source": [
    "%%writefile go_modular/data_setup.py\n",
    "\n",
    "\"\"\"\n",
    "contains functionality for creating PyTirch DataLoader's for image\n",
    "classification data\n",
    "\"\"\"\n",
    "\n",
    "import os\n",
    "from torchvision import datasets, transforms\n",
    "from torch.utils.data import DataLoader\n",
    "\n",
    "def create_dataloaders(train_dir: str,\n",
    "                       test_dir: str,\n",
    "                       transform: transforms.Compose,\n",
    "                       batch_size: int):\n",
    "    # Use ImageFolder to create datasets(s)\n",
    "    train_data = datasets.ImageFolder(train_dir, transform=transform)\n",
    "    test_data = datasets.ImageFolder(test_dir, transform=transform)\n",
    "\n",
    "    # Get class names\n",
    "    class_names = train_data.classes\n",
    "    \n",
    "    # Turn images into DataLoaders\n",
    "    train_dataloader = DataLoader(\n",
    "        train_data,\n",
    "        batch_size=batch_size,\n",
    "        shuffle=True,\n",
    "        pin_memory=True \n",
    "    )\n",
    "\n",
    "    test_dataloader = DataLoader(\n",
    "        test_data,\n",
    "        batch_size=batch_size,\n",
    "        shuffle=True,\n",
    "        pin_memory=True \n",
    "    )\n",
    "\n",
    "    return train_dataloader, test_dataloader, class_names"
   ]
  },
  {
   "cell_type": "code",
   "execution_count": 6,
   "metadata": {},
   "outputs": [],
   "source": [
    "from torchvision import transforms\n",
    "\n",
    "# Create simple transform\n",
    "data_transform = transforms.Compose([ \n",
    "    transforms.Resize((64, 64)),\n",
    "    transforms.ToTensor(),\n",
    "])"
   ]
  },
  {
   "cell_type": "code",
   "execution_count": 7,
   "metadata": {},
   "outputs": [
    {
     "data": {
      "text/plain": [
       "(<torch.utils.data.dataloader.DataLoader at 0x155cbacb0>,\n",
       " <torch.utils.data.dataloader.DataLoader at 0x155cbae30>,\n",
       " ['pizza', 'steak', 'sushi'])"
      ]
     },
     "execution_count": 7,
     "metadata": {},
     "output_type": "execute_result"
    }
   ],
   "source": [
    "from go_modular import data_setup\n",
    "\n",
    "train_dataloader, test_dataloader, class_names = data_setup.create_dataloaders(\n",
    "    train_dir=train_dir,\n",
    "    test_dir=test_dir,\n",
    "    transform=data_transform,\n",
    "    batch_size=32\n",
    ")\n",
    "\n",
    "train_dataloader, test_dataloader, class_names"
   ]
  },
  {
   "cell_type": "markdown",
   "metadata": {},
   "source": [
    "### 3. Make a model with a script"
   ]
  },
  {
   "cell_type": "code",
   "execution_count": 8,
   "metadata": {},
   "outputs": [
    {
     "name": "stdout",
     "output_type": "stream",
     "text": [
      "Writing go_modular/model_builder.py\n"
     ]
    }
   ],
   "source": [
    "%%writefile go_modular/model_builder.py\n",
    "\n",
    "import torch\n",
    "from torch import nn\n",
    "\n",
    "class TinyVGG(nn.Module):\n",
    "    \"\"\" model architecture copying TingVGG from CNN Explainer \"\"\"\n",
    "    def __init__(self, input_shape, hidden_units, output_shape):\n",
    "        super().__init__()\n",
    "        self.con_block_1 = nn.Sequential(\n",
    "            nn.Conv2d(in_channels=input_shape,\n",
    "                      out_channels=hidden_units,\n",
    "                      kernel_size=3,\n",
    "                      stride=1,\n",
    "                      padding=1),\n",
    "            nn.ReLU(),\n",
    "            nn.Conv2d(in_channels=hidden_units,\n",
    "                      out_channels=hidden_units,\n",
    "                      kernel_size=3,\n",
    "                      stride=1,\n",
    "                      padding=1),\n",
    "            nn.ReLU(),\n",
    "            nn.MaxPool2d(kernel_size=2, stride=2)\n",
    "        )\n",
    "\n",
    "        self.con_block_2 = nn.Sequential(\n",
    "            nn.Conv2d(in_channels=hidden_units,\n",
    "                      out_channels=hidden_units,\n",
    "                      kernel_size=3,\n",
    "                      stride=1,\n",
    "                      padding=1),\n",
    "            nn.ReLU(),\n",
    "            nn.Conv2d(in_channels=hidden_units,\n",
    "                      out_channels=hidden_units,\n",
    "                      kernel_size=3,\n",
    "                      stride=1,\n",
    "                      padding=0),\n",
    "            nn.ReLU(),\n",
    "            nn.MaxPool2d(kernel_size=2, stride=2)\n",
    "        )\n",
    "        self.classifier = nn.Sequential(\n",
    "            nn.Flatten(),\n",
    "            nn.Linear(in_features=hidden_units * 15 * 15, out_features=output_shape)\n",
    "        )\n",
    "    \n",
    "    def forward(self, x):\n",
    "        x = self.con_block_1(x)\n",
    "        x = self.con_block_2(x)\n",
    "        x = self.classifier(x)\n",
    "        return x"
   ]
  },
  {
   "cell_type": "code",
   "execution_count": 9,
   "metadata": {},
   "outputs": [
    {
     "data": {
      "text/plain": [
       "TinyVGG(\n",
       "  (con_block_1): Sequential(\n",
       "    (0): Conv2d(3, 10, kernel_size=(3, 3), stride=(1, 1), padding=(1, 1))\n",
       "    (1): ReLU()\n",
       "    (2): Conv2d(10, 10, kernel_size=(3, 3), stride=(1, 1), padding=(1, 1))\n",
       "    (3): ReLU()\n",
       "    (4): MaxPool2d(kernel_size=2, stride=2, padding=0, dilation=1, ceil_mode=False)\n",
       "  )\n",
       "  (con_block_2): Sequential(\n",
       "    (0): Conv2d(10, 10, kernel_size=(3, 3), stride=(1, 1), padding=(1, 1))\n",
       "    (1): ReLU()\n",
       "    (2): Conv2d(10, 10, kernel_size=(3, 3), stride=(1, 1))\n",
       "    (3): ReLU()\n",
       "    (4): MaxPool2d(kernel_size=2, stride=2, padding=0, dilation=1, ceil_mode=False)\n",
       "  )\n",
       "  (classifier): Sequential(\n",
       "    (0): Flatten(start_dim=1, end_dim=-1)\n",
       "    (1): Linear(in_features=2250, out_features=3, bias=True)\n",
       "  )\n",
       ")"
      ]
     },
     "execution_count": 9,
     "metadata": {},
     "output_type": "execute_result"
    }
   ],
   "source": [
    "import torch\n",
    "from go_modular import model_builder\n",
    "\n",
    "torch.manual_seed(42)\n",
    "\n",
    "model_0 = model_builder.TinyVGG(input_shape=3,\n",
    "                                hidden_units=10,\n",
    "                                output_shape=len(class_names))\n",
    "model_0"
   ]
  },
  {
   "cell_type": "code",
   "execution_count": 10,
   "metadata": {},
   "outputs": [
    {
     "name": "stdout",
     "output_type": "stream",
     "text": [
      "Single image shape: torch.Size([1, 3, 64, 64])\n",
      "\n",
      "Output logits:\n",
      "tensor([[ 0.0264, -0.0172, -0.0141]])\n",
      "\n",
      "Output prediction probabilities:\n",
      "tensor([[0.3427, 0.3281, 0.3291]])\n",
      "\n",
      "Output prediction label:\n",
      "tensor([0])\n",
      "\n",
      "Actual label:\n",
      "1\n"
     ]
    }
   ],
   "source": [
    "# try a forward pass\n",
    "# 1. Get a batch of images and labels from the DataLoader\n",
    "img_batch, label_batch = next(iter(train_dataloader))\n",
    "\n",
    "# 2. Get a single image from the batch and unsqueeze the image so its shape fits the model\n",
    "img_single, label_single = img_batch[0].unsqueeze(dim=0), label_batch[0]\n",
    "print(f\"Single image shape: {img_single.shape}\\n\")\n",
    "\n",
    "# 3. Perform a forward pass on a single image\n",
    "model_0.eval()\n",
    "with torch.inference_mode():\n",
    "    pred = model_0(img_single)\n",
    "    \n",
    "# 4. Print out what's happening and convert model logits -> pred probs -> pred label\n",
    "print(f\"Output logits:\\n{pred}\\n\")\n",
    "print(f\"Output prediction probabilities:\\n{torch.softmax(pred, dim=1)}\\n\")\n",
    "print(f\"Output prediction label:\\n{torch.argmax(torch.softmax(pred, dim=1), dim=1)}\\n\")\n",
    "print(f\"Actual label:\\n{label_single}\")"
   ]
  },
  {
   "cell_type": "markdown",
   "metadata": {},
   "source": [
    "### 4. Turn training functions into a script"
   ]
  },
  {
   "cell_type": "code",
   "execution_count": 11,
   "metadata": {},
   "outputs": [
    {
     "name": "stdout",
     "output_type": "stream",
     "text": [
      "Writing go_modular/engine.py\n"
     ]
    }
   ],
   "source": [
    "%%writefile go_modular/engine.py\n",
    "\n",
    "\"\"\" contains functions for training and testing a PyTorch model \"\"\"\n",
    "\n",
    "from typing import Dict, List, Tuple\n",
    "import torch\n",
    "from torch import nn\n",
    "from tqdm.auto import tqdm\n",
    "\n",
    "# training steps\n",
    "def train_step(model: nn.Module,\n",
    "               dataloader: torch.utils.data.DataLoader,\n",
    "               loss_fn: nn.Module,\n",
    "               optimizer: torch.optim.Optimizer,\n",
    "               device: torch.device):\n",
    "    model.train()\n",
    "\n",
    "    # setup train loss and train accuracy values\n",
    "    train_loss, train_acc = 0, 0\n",
    "\n",
    "    # loop through dataloader batches\n",
    "    for batch, (X, y) in enumerate(dataloader):\n",
    "        # send the data into the target device\n",
    "        X, y = X.to(device), y.to(device)\n",
    "\n",
    "        y_pred = model(X)\n",
    "        loss = loss_fn(y_pred, y)\n",
    "        train_loss += loss.item()   # get the single integer\n",
    "\n",
    "        optimizer.zero_grad()\n",
    "        loss.backward()\n",
    "        optimizer.step()\n",
    "\n",
    "        # calculate accuracy metric\n",
    "        pred_class = torch.argmax(torch.softmax(y_pred, dim=1), dim=1)\n",
    "        train_acc += (pred_class == y).sum().item() / len(y_pred)\n",
    "    \n",
    "    # adjust metrics to get average loss and accuracy per batch\n",
    "    # -> aberage loss and accuracy per epoch across all batches\n",
    "    train_loss = train_loss / len(dataloader)\n",
    "    train_acc = train_acc / len(dataloader)\n",
    "\n",
    "    return train_loss, train_acc\n",
    "\n",
    "\n",
    "# testing steps\n",
    "def test_step(model:nn.Module,\n",
    "              dataloader: torch.utils.data.DataLoader,\n",
    "              loss_fn: nn.Module,\n",
    "              device: torch.device):\n",
    "    test_loss, test_acc = 0, 0\n",
    "\n",
    "    model.eval()\n",
    "    with torch.inference_mode():\n",
    "        for batch, (X, y) in enumerate(dataloader):\n",
    "            X, y = X.to(device), y.to(device)\n",
    "\n",
    "            test_pred = model(X)\n",
    "\n",
    "            loss = loss_fn(test_pred, y)\n",
    "            test_loss += loss.item()\n",
    "\n",
    "            test_label = test_pred.argmax(dim=1)\n",
    "            test_acc += (test_label == y).sum().item() / len(test_label)\n",
    "\n",
    "    # adjust metrics to get average per batch\n",
    "    test_loss = test_loss / len(dataloader)\n",
    "    test_acc = test_acc / len(dataloader)\n",
    "\n",
    "    return test_loss, test_acc\n",
    "\n",
    "\n",
    "# train function -> put training step and testing step together\n",
    "def train(model: nn.Module,\n",
    "          train_dataloader: torch.utils.data.DataLoader,\n",
    "          test_dataloader: torch.utils.data.DataLoader,\n",
    "          optimizer: torch.optim.Optimizer,\n",
    "          loss_fn: nn.Module,\n",
    "          epochs: int,\n",
    "          device: torch.device):\n",
    "    # create empty results dictionary\n",
    "    results = {\"train_loss\" : [],\n",
    "               \"train_acc\": [],\n",
    "               \"test_loss\" : [],\n",
    "               \"test_acc\": []}\n",
    "    \n",
    "    # loop through train and test loop\n",
    "    for epoch in tqdm(range(epochs)):\n",
    "        train_loss, train_acc = train_step(model, train_dataloader, loss_fn, optimizer, device)\n",
    "        test_loss, test_acc = test_step(model, test_dataloader, loss_fn, device)\n",
    "\n",
    "        print(\n",
    "            f\"Epoch: {epoch+1} | \"\n",
    "            f\"train_loss: {train_loss:.4f} | \"\n",
    "            f\"train_acc: {train_acc:.4f} | \"\n",
    "            f\"test_loss: {test_loss:.4f} | \"\n",
    "            f\"test_acc: {test_acc:.4f}\"\n",
    "        )\n",
    "        # update results dictionary\n",
    "        results[\"train_loss\"].append(train_loss)\n",
    "        results[\"train_acc\"].append(train_acc)\n",
    "        results[\"test_loss\"].append(test_loss)\n",
    "        results[\"test_acc\"].append(test_acc)\n",
    "    \n",
    "    return results"
   ]
  },
  {
   "cell_type": "code",
   "execution_count": 12,
   "metadata": {},
   "outputs": [
    {
     "data": {
      "application/vnd.jupyter.widget-view+json": {
       "model_id": "a5e0c97cfacd4191a045b28806029c90",
       "version_major": 2,
       "version_minor": 0
      },
      "text/plain": [
       "  0%|          | 0/5 [00:00<?, ?it/s]"
      ]
     },
     "metadata": {},
     "output_type": "display_data"
    },
    {
     "name": "stdout",
     "output_type": "stream",
     "text": [
      "Epoch: 1 | train_loss: 1.1019 | train_acc: 0.3594 | test_loss: 1.1034 | test_acc: 0.2973\n",
      "Epoch: 2 | train_loss: 1.1026 | train_acc: 0.2930 | test_loss: 1.1247 | test_acc: 0.2576\n",
      "Epoch: 3 | train_loss: 1.0891 | train_acc: 0.4570 | test_loss: 1.1166 | test_acc: 0.3598\n",
      "Epoch: 4 | train_loss: 1.0800 | train_acc: 0.4258 | test_loss: 1.1093 | test_acc: 0.3598\n",
      "Epoch: 5 | train_loss: 1.1175 | train_acc: 0.3047 | test_loss: 1.1240 | test_acc: 0.3002\n"
     ]
    },
    {
     "data": {
      "text/plain": [
       "{'train_loss': [1.1018784642219543,\n",
       "  1.1025919318199158,\n",
       "  1.089074045419693,\n",
       "  1.0799826383590698,\n",
       "  1.1175467371940613],\n",
       " 'train_acc': [0.359375, 0.29296875, 0.45703125, 0.42578125, 0.3046875],\n",
       " 'test_loss': [1.1034072240193684,\n",
       "  1.1246881087621052,\n",
       "  1.1165741682052612,\n",
       "  1.109251340230306,\n",
       "  1.1240050792694092],\n",
       " 'test_acc': [0.29734848484848486,\n",
       "  0.25757575757575757,\n",
       "  0.35984848484848486,\n",
       "  0.35984848484848486,\n",
       "  0.300189393939394]}"
      ]
     },
     "execution_count": 12,
     "metadata": {},
     "output_type": "execute_result"
    }
   ],
   "source": [
    "from go_modular import engine\n",
    "from torch import nn\n",
    "\n",
    "loss_fn = nn.CrossEntropyLoss()\n",
    "optimizer = torch.optim.Adam(params=model_0.parameters(), lr=0.001)\n",
    "\n",
    "engine.train(model_0, train_dataloader, test_dataloader, optimizer, loss_fn, 5, \"cpu\")"
   ]
  },
  {
   "cell_type": "markdown",
   "metadata": {},
   "source": [
    "### 5. Create a file called `utils.py` with utility functions\n",
    "\n",
    "=> save the model"
   ]
  },
  {
   "cell_type": "code",
   "execution_count": 13,
   "metadata": {},
   "outputs": [
    {
     "name": "stdout",
     "output_type": "stream",
     "text": [
      "Writing go_modular/utils.py\n"
     ]
    }
   ],
   "source": [
    "%%writefile go_modular/utils.py\n",
    "\"\"\" cintains various utility functions for PyTorvh model training \"\"\"\n",
    "\n",
    "import torch\n",
    "from torch import nn\n",
    "from pathlib import Path\n",
    "\n",
    "def save_model(model: nn.Module, target_dir: str, model_name: str):\n",
    "    \"\"\" save a model yo a target directory \"\"\"\n",
    "    # Create target directory\n",
    "    target_dir_path = Path(target_dir)\n",
    "    target_dir_path.mkdir(parents=True, exist_ok=True)\n",
    "\n",
    "    # create the model save path\n",
    "    assert model_name.endswith(\".pth\") or model_name.endswith(\".pt\"), \"model_name should end with '.pt' or '.pth'\"\n",
    "    model_save_path = target_dir_path / model_name\n",
    "\n",
    "    print(\"[INFO] Saving model to:\", model_save_path)\n",
    "    torch.save(obj=model.state_dict(), f=model_save_path)\n"
   ]
  },
  {
   "cell_type": "markdown",
   "metadata": {},
   "source": [
    "### 6. Train, evaluate and save model -> `train.py`\n",
    "\n",
    "=> create a file called `train.py` to leverage all other code scripts to train a PyTorch model`"
   ]
  },
  {
   "cell_type": "code",
   "execution_count": 14,
   "metadata": {},
   "outputs": [
    {
     "name": "stdout",
     "output_type": "stream",
     "text": [
      "Writing go_modular/train.py\n"
     ]
    }
   ],
   "source": [
    "%%writefile go_modular/train.py\n",
    "\"\"\" Trains a PyTorch image classification model \"\"\"\n",
    "\n",
    "import os\n",
    "import torch\n",
    "from torch import nn\n",
    "from torchvision import transforms\n",
    "from timeit import default_timer as timer \n",
    "\n",
    "import data_setup, engine, model_builder, utils\n",
    "\n",
    "# Setup hyperparameters\n",
    "NUM_EPOCHS = 5 \n",
    "BATCH_SIZE = 32\n",
    "HIDDEN_UNITS = 10\n",
    "LEARNING_RATE = 0.001\n",
    "DEVICE = \"cpu\"\n",
    "\n",
    "# Setup directories\n",
    "train_dir = \"data/pizza_steak_sushi/train\"\n",
    "test_dir = \"data/pizza_steak_sushi/test\"\n",
    "\n",
    "# Create transforms\n",
    "data_transform = transforms.Compose([\n",
    "    transforms.Resize((64, 64)),\n",
    "    transforms.ToTensor()\n",
    "])\n",
    "\n",
    "# Create dataloader and get class names\n",
    "train_dataloader, test_dataloader, class_names = data_setup.create_dataloaders(\n",
    "    train_dir=train_dir,\n",
    "    test_dir=test_dir,\n",
    "    transform=data_transform,\n",
    "    batch_size=BATCH_SIZE\n",
    ")\n",
    "\n",
    "# creata a model\n",
    "model = model_builder.TinyVGG(input_shape=3,\n",
    "                              hidden_units=HIDDEN_UNITS,\n",
    "                              output_shape=len(class_names))\n",
    "\n",
    "# set up loss function and optimizer\n",
    "loss_fn = torch.nn.CrossEntropyLoss()\n",
    "optimizer = torch.optim.Adam(model.parameters(), lr=LEARNING_RATE)\n",
    "\n",
    "# train the model and set the timer\n",
    "start_time = timer()\n",
    "engine.train(model,\n",
    "             train_dataloader,\n",
    "             test_dataloader,\n",
    "             optimizer,\n",
    "             loss_fn,\n",
    "             NUM_EPOCHS,\n",
    "             DEVICE)\n",
    "end_time = timer()\n",
    "print(f\"[INFO] Total training time: {end_time-start_time:.3f} seconds\")\n",
    "\n",
    "# save the model to file\n",
    "utils.save_model(model=model,\n",
    "                 target_dir=\"models\",\n",
    "                 model_name=\"05_go_modular_script_tinyvgg_model.pth\")"
   ]
  },
  {
   "cell_type": "code",
   "execution_count": 15,
   "metadata": {},
   "outputs": [
    {
     "name": "stdout",
     "output_type": "stream",
     "text": [
      "  0%|                                                     | 0/5 [00:00<?, ?it/s]Epoch: 1 | train_loss: 1.1041 | train_acc: 0.3047 | test_loss: 1.0883 | test_acc: 0.4214\n",
      " 20%|█████████                                    | 1/5 [00:01<00:05,  1.36s/it]Epoch: 2 | train_loss: 1.0995 | train_acc: 0.3594 | test_loss: 1.0773 | test_acc: 0.4214\n",
      " 40%|██████████████████                           | 2/5 [00:02<00:03,  1.26s/it]Epoch: 3 | train_loss: 1.0319 | train_acc: 0.5742 | test_loss: 1.0916 | test_acc: 0.3722\n",
      " 60%|███████████████████████████                  | 3/5 [00:03<00:02,  1.24s/it]Epoch: 4 | train_loss: 1.0326 | train_acc: 0.5664 | test_loss: 1.0845 | test_acc: 0.4233\n",
      " 80%|████████████████████████████████████         | 4/5 [00:05<00:01,  1.25s/it]Epoch: 5 | train_loss: 0.9712 | train_acc: 0.6328 | test_loss: 1.0219 | test_acc: 0.3930\n",
      "100%|█████████████████████████████████████████████| 5/5 [00:06<00:00,  1.25s/it]\n",
      "[INFO] Total training time: 6.278 seconds\n",
      "[INFO] Saving model to: models/05_go_modular_script_tinyvgg_model.pth\n"
     ]
    }
   ],
   "source": [
    "!python go_modular/train.py"
   ]
  }
 ],
 "metadata": {
  "kernelspec": {
   "display_name": "Python 3",
   "language": "python",
   "name": "python3"
  },
  "language_info": {
   "codemirror_mode": {
    "name": "ipython",
    "version": 3
   },
   "file_extension": ".py",
   "mimetype": "text/x-python",
   "name": "python",
   "nbconvert_exporter": "python",
   "pygments_lexer": "ipython3",
   "version": "3.10.12"
  },
  "orig_nbformat": 4
 },
 "nbformat": 4,
 "nbformat_minor": 2
}
