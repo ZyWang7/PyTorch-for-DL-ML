{
 "cells": [
  {
   "cell_type": "markdown",
   "metadata": {},
   "source": [
    "## 06. PyTorch Transfer Learning"
   ]
  },
  {
   "cell_type": "markdown",
   "metadata": {},
   "source": [
    "#### **Transfer learning**\n",
    "\n",
    "=> involves taking the parameters of what one model has learned on another dataset and applying to our own problem.\n",
    "\n",
    "- Pretrained model = foundation model\n",
    "\n",
    "=> e.g. take the patterns a computer vision model has learned from datasets such as `ImageNet`, and use them to power our FoofVision Mini model.\n",
    "\n",
    "#### Why **Transfer learning**?\n",
    "\n",
    "- (1) can leverage an existing model (usually a neurl network architecture) proven to work on problems similar to our own\n",
    "- (2) can leverage a working model which has already learned patterns on similar data to our own. This often results in achieving great results with less custom data."
   ]
  },
  {
   "cell_type": "code",
   "execution_count": 1,
   "metadata": {},
   "outputs": [
    {
     "name": "stdout",
     "output_type": "stream",
     "text": [
      "2.1.0.dev20230709\n",
      "0.16.0.dev20230709\n"
     ]
    }
   ],
   "source": [
    "import torch\n",
    "import torchvision\n",
    "\n",
    "print(torch.__version__)\n",
    "print(torchvision.__version__)"
   ]
  },
  {
   "cell_type": "code",
   "execution_count": 2,
   "metadata": {},
   "outputs": [
    {
     "data": {
      "text/plain": [
       "'mps'"
      ]
     },
     "execution_count": 2,
     "metadata": {},
     "output_type": "execute_result"
    }
   ],
   "source": [
    "import matplotlib.pyplot as plt\n",
    "import torch\n",
    "import torchvision\n",
    "\n",
    "from torch import nn\n",
    "from torchvision import transforms\n",
    "from go_modular import data_setup, engine\n",
    "\n",
    "device = \"gpu\" if torch.cuda.is_available() \\\n",
    "    else \"mps\" if torch.backends.mps.is_built() else \"cpu\"\n",
    "device"
   ]
  },
  {
   "cell_type": "code",
   "execution_count": null,
   "metadata": {},
   "outputs": [],
   "source": []
  }
 ],
 "metadata": {
  "kernelspec": {
   "display_name": "Python 3",
   "language": "python",
   "name": "python3"
  },
  "language_info": {
   "codemirror_mode": {
    "name": "ipython",
    "version": 3
   },
   "file_extension": ".py",
   "mimetype": "text/x-python",
   "name": "python",
   "nbconvert_exporter": "python",
   "pygments_lexer": "ipython3",
   "version": "3.10.12"
  },
  "orig_nbformat": 4
 },
 "nbformat": 4,
 "nbformat_minor": 2
}
