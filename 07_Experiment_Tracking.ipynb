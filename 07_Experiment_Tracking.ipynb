{
 "cells": [
  {
   "cell_type": "markdown",
   "metadata": {},
   "source": [
    "## 07. PyTorch Experiment Tracking\n",
    "\n",
    "### Milestone Project 1: FoodVision Mini Experiment Tracking"
   ]
  },
  {
   "cell_type": "markdown",
   "metadata": {},
   "source": [
    "#### What is experiment tracking?\n",
    "\n",
    "=> helps you figure out what works and what doesn't.\n",
    "\n",
    "> If you are only running a handful of models, it might be okay just to track their results in print outs and a few dictionaries.\n",
    ">\n",
    "> However, as the number of exoeriments you runs starts to increase, this naive way of tracking could get out of hand.\n",
    "\n",
    "\n",
    "#### Diffrent ways to track machine learning experiments\n",
    "- Python dictionaries, CSV fiels, print outs\n",
    "- TensorBoard\n",
    "- Weights & Bias Experiment Tracking\n",
    "- MlFlow"
   ]
  },
  {
   "cell_type": "markdown",
   "metadata": {},
   "source": [
    "### 0. Set up"
   ]
  },
  {
   "cell_type": "code",
   "execution_count": 1,
   "metadata": {},
   "outputs": [
    {
     "name": "stdout",
     "output_type": "stream",
     "text": [
      "2.1.0.dev20230709\n",
      "0.16.0.dev20230709\n"
     ]
    }
   ],
   "source": [
    "import torch\n",
    "import torchvision\n",
    "\n",
    "print(torch.__version__)\n",
    "print(torchvision.__version__)"
   ]
  },
  {
   "cell_type": "code",
   "execution_count": 2,
   "metadata": {},
   "outputs": [
    {
     "data": {
      "text/plain": [
       "'mps'"
      ]
     },
     "execution_count": 2,
     "metadata": {},
     "output_type": "execute_result"
    }
   ],
   "source": [
    "import matplotlib.pyplot as plt\n",
    "import torch\n",
    "import torchvision\n",
    "\n",
    "from torch import nn\n",
    "from torchvision import transforms\n",
    "from torchinfo import summary\n",
    "\n",
    "device = \"gpu\" if torch.cuda.is_available() \\\n",
    "    else \"mps\" if torch.backends.mps.is_built() else \"cpu\"\n",
    "device"
   ]
  }
 ],
 "metadata": {
  "kernelspec": {
   "display_name": "Python 3",
   "language": "python",
   "name": "python3"
  },
  "language_info": {
   "codemirror_mode": {
    "name": "ipython",
    "version": 3
   },
   "file_extension": ".py",
   "mimetype": "text/x-python",
   "name": "python",
   "nbconvert_exporter": "python",
   "pygments_lexer": "ipython3",
   "version": "3.10.12"
  },
  "orig_nbformat": 4
 },
 "nbformat": 4,
 "nbformat_minor": 2
}
